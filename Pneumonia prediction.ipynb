{
 "cells": [
  {
   "cell_type": "code",
   "execution_count": null,
   "id": "4a09589a",
   "metadata": {},
   "outputs": [],
   "source": [
    "#Importing neccessary libraries"
   ]
  },
  {
   "cell_type": "code",
   "execution_count": 1,
   "id": "69fe2a33",
   "metadata": {},
   "outputs": [],
   "source": [
    "import numpy as np\n",
    "\n",
    "import matplotlib.pyplot as plt\n",
    "import seaborn as sns\n",
    "\n",
    "from sklearn.metrics import confusion_matrix\n",
    "\n",
    "import tensorflow as tf"
   ]
  },
  {
   "cell_type": "code",
   "execution_count": null,
   "id": "fab2ed20",
   "metadata": {},
   "outputs": [],
   "source": [
    "#Path to load the image dataset downloaded from Kaggle"
   ]
  },
  {
   "cell_type": "code",
   "execution_count": 25,
   "id": "77adc325",
   "metadata": {
    "scrolled": true
   },
   "outputs": [],
   "source": [
    "train_dir = r'C:\\Users\\Moorthy\\train'\n",
    "val_dir = r'C:\\Users\\Moorthy\\val'\n",
    "test_dir = r'C:\\Users\\Moorthy\\test'"
   ]
  },
  {
   "cell_type": "code",
   "execution_count": null,
   "id": "2381f662",
   "metadata": {},
   "outputs": [],
   "source": [
    "#Fitting the size of the image"
   ]
  },
  {
   "cell_type": "code",
   "execution_count": 26,
   "id": "70bbaa45",
   "metadata": {},
   "outputs": [],
   "source": [
    "IMG_HEIGHT = 224\n",
    "IMG_WIDTH = 224\n",
    "\n",
    "BATCH_SIZE = 32"
   ]
  },
  {
   "cell_type": "code",
   "execution_count": null,
   "id": "aa1c956e",
   "metadata": {},
   "outputs": [],
   "source": [
    "#Data augumentation improve model performance and rescaling the pixel size "
   ]
  },
  {
   "cell_type": "code",
   "execution_count": 27,
   "id": "37ca6561",
   "metadata": {},
   "outputs": [],
   "source": [
    "train_datagen = tf.keras.preprocessing.image.ImageDataGenerator(\n",
    "    rescale=1./255,\n",
    "    rotation_range=20,\n",
    "    brightness_range=(1.2, 1.5),\n",
    "    horizontal_flip=True\n",
    ")\n",
    "\n",
    "val_datagen = tf.keras.preprocessing.image.ImageDataGenerator(\n",
    "    rescale=1./255\n",
    ")\n",
    "\n",
    "test_datagen = tf.keras.preprocessing.image.ImageDataGenerator(\n",
    "    rescale=1./255\n",
    ")"
   ]
  },
  {
   "cell_type": "code",
   "execution_count": null,
   "id": "b37a5708",
   "metadata": {},
   "outputs": [],
   "source": [
    "#Creating data flow of train, validate and test from directory "
   ]
  },
  {
   "cell_type": "code",
   "execution_count": 28,
   "id": "2f280f5c",
   "metadata": {},
   "outputs": [
    {
     "name": "stdout",
     "output_type": "stream",
     "text": [
      "Found 5216 images belonging to 2 classes.\n",
      "Found 16 images belonging to 2 classes.\n",
      "Found 624 images belonging to 2 classes.\n"
     ]
    }
   ],
   "source": [
    "train_data = train_datagen.flow_from_directory(\n",
    "    train_dir,\n",
    "    target_size=(IMG_HEIGHT, IMG_WIDTH),\n",
    "    class_mode='binary',\n",
    "    batch_size=BATCH_SIZE\n",
    ")\n",
    "\n",
    "val_data = train_datagen.flow_from_directory(\n",
    "    val_dir,\n",
    "    target_size=(IMG_HEIGHT, IMG_WIDTH),\n",
    "    class_mode='binary',\n",
    "    batch_size=BATCH_SIZE\n",
    ")\n",
    "\n",
    "test_data = train_datagen.flow_from_directory(\n",
    "    test_dir,\n",
    "    target_size=(IMG_HEIGHT, IMG_WIDTH),\n",
    "    class_mode='binary',\n",
    "    batch_size=BATCH_SIZE\n",
    ")"
   ]
  },
  {
   "cell_type": "code",
   "execution_count": null,
   "id": "ca0eadd4",
   "metadata": {},
   "outputs": [],
   "source": [
    "#Pre trained Mobilnetv2 transformer for classifying presence of pnuemonia or not"
   ]
  },
  {
   "cell_type": "code",
   "execution_count": 29,
   "id": "275603f3",
   "metadata": {},
   "outputs": [
    {
     "name": "stdout",
     "output_type": "stream",
     "text": [
      "Downloading data from https://storage.googleapis.com/tensorflow/keras-applications/mobilenet_v2/mobilenet_v2_weights_tf_dim_ordering_tf_kernels_1.0_224_no_top.h5\n",
      "9412608/9406464 [==============================] - 3s 0us/step\n",
      "9420800/9406464 [==============================] - 3s 0us/step\n"
     ]
    }
   ],
   "source": [
    " mobilenet = tf.keras.applications.MobileNetV2(\n",
    "    input_shape=(IMG_HEIGHT, IMG_WIDTH, 3),\n",
    "    include_top=False,\n",
    "    weights='imagenet',\n",
    "    pooling='avg'\n",
    ")\n",
    "\n",
    "mobilenet.trainable = False"
   ]
  },
  {
   "cell_type": "code",
   "execution_count": null,
   "id": "4ac290c5",
   "metadata": {},
   "outputs": [],
   "source": [
    "#Training the pre trained transformer model with input and output layers "
   ]
  },
  {
   "cell_type": "code",
   "execution_count": 30,
   "id": "d2a77f3b",
   "metadata": {},
   "outputs": [
    {
     "name": "stdout",
     "output_type": "stream",
     "text": [
      "Model: \"model\"\n",
      "_________________________________________________________________\n",
      " Layer (type)                Output Shape              Param #   \n",
      "=================================================================\n",
      " input_2 (InputLayer)        [(None, 224, 224, 3)]     0         \n",
      "                                                                 \n",
      " mobilenetv2_1.00_224 (Funct  (None, 1280)             2257984   \n",
      " ional)                                                          \n",
      "                                                                 \n",
      " dense (Dense)               (None, 1024)              1311744   \n",
      "                                                                 \n",
      " dense_1 (Dense)             (None, 1)                 1025      \n",
      "                                                                 \n",
      "=================================================================\n",
      "Total params: 3,570,753\n",
      "Trainable params: 1,312,769\n",
      "Non-trainable params: 2,257,984\n",
      "_________________________________________________________________\n",
      "None\n"
     ]
    }
   ],
   "source": [
    "inputs = tf.keras.Input(shape=(IMG_HEIGHT, IMG_WIDTH, 3))\n",
    "\n",
    "pretrained_model = mobilenet(inputs, training=False)\n",
    "\n",
    "dense = tf.keras.layers.Dense(1024, activation='relu')(pretrained_model)\n",
    "\n",
    "outputs = tf.keras.layers.Dense(1, activation='sigmoid')(dense)\n",
    "\n",
    "\n",
    "model = tf.keras.Model(inputs, outputs)\n",
    "\n",
    "\n",
    "print(model.summary())"
   ]
  },
  {
   "cell_type": "code",
   "execution_count": null,
   "id": "9e50a3cd",
   "metadata": {},
   "outputs": [],
   "source": [
    "#Setting the epoch, optimizer, and calculating loss"
   ]
  },
  {
   "cell_type": "code",
   "execution_count": 31,
   "id": "59024d76",
   "metadata": {},
   "outputs": [
    {
     "name": "stdout",
     "output_type": "stream",
     "text": [
      "Epoch 1/50\n",
      "163/163 [==============================] - 157s 943ms/step - loss: 0.2022 - accuracy: 0.9229 - auc: 0.9667 - val_loss: 0.3174 - val_accuracy: 0.8750 - val_auc: 0.9531\n",
      "Epoch 2/50\n",
      "163/163 [==============================] - 144s 882ms/step - loss: 0.1163 - accuracy: 0.9525 - auc: 0.9891 - val_loss: 0.2918 - val_accuracy: 0.8750 - val_auc: 0.9688\n",
      "Epoch 3/50\n",
      "163/163 [==============================] - 149s 914ms/step - loss: 0.0953 - accuracy: 0.9601 - auc: 0.9925 - val_loss: 0.1680 - val_accuracy: 0.8750 - val_auc: 1.0000\n",
      "Epoch 4/50\n",
      "163/163 [==============================] - 142s 872ms/step - loss: 0.1180 - accuracy: 0.9523 - auc: 0.9878 - val_loss: 0.3889 - val_accuracy: 0.9375 - val_auc: 0.9531\n",
      "Epoch 5/50\n",
      "163/163 [==============================] - 143s 875ms/step - loss: 0.0818 - accuracy: 0.9670 - auc: 0.9943 - val_loss: 0.4338 - val_accuracy: 0.7500 - val_auc: 0.9688\n",
      "Epoch 6/50\n",
      "163/163 [==============================] - 143s 875ms/step - loss: 0.0815 - accuracy: 0.9686 - auc: 0.9937 - val_loss: 0.4429 - val_accuracy: 0.8125 - val_auc: 0.9844\n"
     ]
    }
   ],
   "source": [
    "EPOCHS = 50\n",
    "\n",
    "model.compile(\n",
    "    optimizer='adam',\n",
    "    loss='binary_crossentropy',\n",
    "    metrics=[\n",
    "        'accuracy',\n",
    "        tf.keras.metrics.AUC(name='auc')\n",
    "    ]\n",
    ")\n",
    "\n",
    "history = model.fit(\n",
    "    train_data,\n",
    "    validation_data=val_data,\n",
    "    batch_size=BATCH_SIZE,\n",
    "    epochs=EPOCHS,\n",
    "    callbacks=[\n",
    "        tf.keras.callbacks.EarlyStopping(\n",
    "            monitor='val_loss',\n",
    "            patience=3,\n",
    "            restore_best_weights=True\n",
    "        )\n",
    "    ]\n",
    ")"
   ]
  },
  {
   "cell_type": "code",
   "execution_count": null,
   "id": "69a8c6c2",
   "metadata": {},
   "outputs": [],
   "source": [
    "#Plotting confusion matrix and setting threshold level for prediction"
   ]
  },
  {
   "cell_type": "code",
   "execution_count": 34,
   "id": "ddd27902",
   "metadata": {
    "scrolled": true
   },
   "outputs": [
    {
     "name": "stderr",
     "output_type": "stream",
     "text": [
      "<ipython-input-34-edfc9550eec1>:2: DeprecationWarning: `np.int` is a deprecated alias for the builtin `int`. To silence this warning, use `int` by itself. Doing this will not modify any behavior and is safe. When replacing `np.int`, you may wish to use e.g. `np.int64` or `np.int32` to specify the precision. If you wish to review your current use, check the release note link for additional information.\n",
      "Deprecated in NumPy 1.20; for more details and guidance: https://numpy.org/devdocs/release/1.20.0-notes.html#deprecations\n",
      "  pred_labels = np.squeeze(np.array(model.predict(test_data) >= 0.5, dtype=np.int))\n"
     ]
    }
   ],
   "source": [
    "true_labels = test_data.labels\n",
    "pred_labels = np.squeeze(np.array(model.predict(test_data) >= 0.5, dtype=np.int))\n",
    "\n",
    "cm = confusion_matrix(true_labels, pred_labels)"
   ]
  },
  {
   "cell_type": "code",
   "execution_count": null,
   "id": "d18f7a61",
   "metadata": {},
   "outputs": [],
   "source": [
    "#Defining class for the variables"
   ]
  },
  {
   "cell_type": "code",
   "execution_count": 35,
   "id": "d78667a1",
   "metadata": {},
   "outputs": [
    {
     "data": {
      "text/plain": [
       "{'NORMAL': 0, 'PNEUMONIA': 1}"
      ]
     },
     "execution_count": 35,
     "metadata": {},
     "output_type": "execute_result"
    }
   ],
   "source": [
    "test_data.class_indices"
   ]
  },
  {
   "cell_type": "code",
   "execution_count": null,
   "id": "9fc62f28",
   "metadata": {},
   "outputs": [],
   "source": [
    "#Confusion matrix"
   ]
  },
  {
   "cell_type": "code",
   "execution_count": 36,
   "id": "b70f58d8",
   "metadata": {},
   "outputs": [
    {
     "data": {
      "image/png": "[encoded data removed]",
      "text/plain": [
       "<Figure size 432x432 with 1 Axes>"
      ]
     },
     "metadata": {
      "needs_background": "light"
     },
     "output_type": "display_data"
    }
   ],
   "source": [
    "plt.figure(figsize=(6, 6))\n",
    "sns.heatmap(cm, annot=True, fmt='g', vmin=0, cmap='mako', cbar=False)\n",
    "plt.xlabel(\"Predicted\")\n",
    "plt.ylabel(\"Actual\")\n",
    "plt.xticks(np.arange(2) + 0.5, ['Normal', 'Pneumonia'], fontsize=16)\n",
    "plt.yticks(np.arange(2) + 0.5, ['Normal', 'Pneumonia'], fontsize=16)\n",
    "plt.show()"
   ]
  },
  {
   "cell_type": "code",
   "execution_count": 39,
   "id": "3dc55735",
   "metadata": {},
   "outputs": [],
   "source": [
    "results = model.evaluate(test_data, verbose=0)\n",
    "\n",
    "accuracy = results[1]\n",
    "auc = results[2]"
   ]
  },
  {
   "cell_type": "code",
   "execution_count": null,
   "id": "8660da83",
   "metadata": {},
   "outputs": [],
   "source": [
    "#Accuracy and precision and recall"
   ]
  },
  {
   "cell_type": "code",
   "execution_count": 40,
   "id": "a40d0456",
   "metadata": {},
   "outputs": [],
   "source": [
    "tn, fp, fn, tp = cm.ravel()\n",
    "\n",
    "precision = tp / (tp + fp)\n",
    "recall = tp / (tp + fn)"
   ]
  },
  {
   "cell_type": "code",
   "execution_count": null,
   "id": "cf6ea67c",
   "metadata": {},
   "outputs": [],
   "source": [
    "#Evaluation metrics"
   ]
  },
  {
   "cell_type": "code",
   "execution_count": 41,
   "id": "5418837d",
   "metadata": {},
   "outputs": [
    {
     "name": "stdout",
     "output_type": "stream",
     "text": [
      "Accuracy: 0.85\n",
      "AUC: 0.94\n",
      "Precision: 0.62\n",
      "Recall: 0.72\n"
     ]
    }
   ],
   "source": [
    "print(\"Accuracy: {:.2f}\".format(accuracy))\n",
    "print(\"AUC: {:.2f}\".format(auc))\n",
    "print(\"Precision: {:.2f}\".format(precision))\n",
    "print(\"Recall: {:.2f}\".format(recall))"
   ]
  },
  {
   "cell_type": "code",
   "execution_count": null,
   "id": "9a380ad5",
   "metadata": {},
   "outputs": [],
   "source": []
  }
 ],
 "metadata": {
  "kernelspec": {
   "display_name": "Python 3",
   "language": "python",
   "name": "python3"
  },
  "language_info": {
   "codemirror_mode": {
    "name": "ipython",
    "version": 3
   },
   "file_extension": ".py",
   "mimetype": "text/x-python",
   "name": "python",
   "nbconvert_exporter": "python",
   "pygments_lexer": "ipython3",
   "version": "3.8.8"
  }
 },
 "nbformat": 4,
 "nbformat_minor": 5
}
